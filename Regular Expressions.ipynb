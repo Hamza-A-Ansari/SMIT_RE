{
 "cells": [
  {
   "cell_type": "code",
   "execution_count": 3,
   "id": "4b08fd94",
   "metadata": {},
   "outputs": [
    {
     "data": {
      "text/plain": [
       "'pakistan \\\\ \"pakistan. '"
      ]
     },
     "execution_count": 3,
     "metadata": {},
     "output_type": "execute_result"
    }
   ],
   "source": [
    "x = \"pakistan \\ \\\"pakistan. \"\n",
    "x"
   ]
  },
  {
   "cell_type": "code",
   "execution_count": 8,
   "id": "9ff13f7f",
   "metadata": {},
   "outputs": [
    {
     "data": {
      "text/plain": [
       "' pakistan \\n zinda bad '"
      ]
     },
     "execution_count": 8,
     "metadata": {},
     "output_type": "execute_result"
    }
   ],
   "source": [
    "x = \" pakistan \\n zinda bad \"\n",
    "x"
   ]
  },
  {
   "cell_type": "code",
   "execution_count": 11,
   "id": "4a648e48",
   "metadata": {},
   "outputs": [
    {
     "data": {
      "text/plain": [
       "[' pakistan ', '', ' zinda bad ', '']"
      ]
     },
     "execution_count": 11,
     "metadata": {},
     "output_type": "execute_result"
    }
   ],
   "source": [
    "import re\n",
    "\n",
    "x = \" pakistan \\n zinda bad pak\"\n",
    "l = re.findall(\".*\",x) #except\n",
    "l"
   ]
  },
  {
   "cell_type": "code",
   "execution_count": 19,
   "id": "9d9db7a4",
   "metadata": {},
   "outputs": [
    {
     "data": {
      "text/plain": [
       "['paki', 'pakI', 'pako']"
      ]
     },
     "execution_count": 19,
     "metadata": {},
     "output_type": "execute_result"
    }
   ],
   "source": [
    "import re\n",
    "\n",
    "x = \" pakistan \\n zinda bad pakInd pakola 100\"\n",
    "l = re.findall(\"pak[abcdefghijklmnopqrstuvwxyzABCDEFGHIJKLMNOPQRSTUVWXYZ]\",x) #except\n",
    "l"
   ]
  },
  {
   "cell_type": "code",
   "execution_count": 24,
   "id": "cc701bbf",
   "metadata": {},
   "outputs": [
    {
     "data": {
      "text/plain": [
       "['pakistan', 'pakInd', 'pakola', 'pakistan']"
      ]
     },
     "execution_count": 24,
     "metadata": {},
     "output_type": "execute_result"
    }
   ],
   "source": [
    "import re\n",
    "\n",
    "x = \" pakistan \\n zinda bad pakInd pakola 100 Armypakistan\"\n",
    "l = re.findall(\"pak[a-zA-Z]+\",x) #except\n",
    "l"
   ]
  },
  {
   "cell_type": "code",
   "execution_count": 33,
   "id": "6cc07ef5",
   "metadata": {},
   "outputs": [
    {
     "data": {
      "text/plain": [
       "['pakistan', 'pakInd', 'pakola', 'pakistan', 'pak1']"
      ]
     },
     "execution_count": 33,
     "metadata": {},
     "output_type": "execute_result"
    }
   ],
   "source": [
    "import re\n",
    "\n",
    "x = \" pakistan \\n zinda bad pakInd pakola 100 Armypakistan pak1\"\n",
    "l = re.findall(\"pak[a-zA-Z0-9]+\",x) #except\n",
    "l"
   ]
  },
  {
   "cell_type": "code",
   "execution_count": 31,
   "id": "767ca2f6",
   "metadata": {},
   "outputs": [
    {
     "data": {
      "text/plain": [
       "['Armypakistan']"
      ]
     },
     "execution_count": 31,
     "metadata": {},
     "output_type": "execute_result"
    }
   ],
   "source": [
    "import re\n",
    "\n",
    "x = \" pakistan \\n zinda bad pakInd pakola 100 Armypakistan pak1\"\n",
    "l = re.findall(\"[a-zA-Z0-9]+pak[a-zA-Z0-9]+\",x) #except\n",
    "l"
   ]
  },
  {
   "cell_type": "code",
   "execution_count": 23,
   "id": "917c41bf",
   "metadata": {},
   "outputs": [
    {
     "data": {
      "text/plain": [
       "['pakistan', 'pakInd', 'pakola']"
      ]
     },
     "execution_count": 23,
     "metadata": {},
     "output_type": "execute_result"
    }
   ],
   "source": [
    "import re\n",
    "\n",
    "x = \" pakistan \\n zinda bad pakInd pakola 100\"\n",
    "l = re.findall(\"pak[a-zA-Z]*\",x) #except\n",
    "l"
   ]
  },
  {
   "cell_type": "code",
   "execution_count": 49,
   "id": "aa4fb22b",
   "metadata": {},
   "outputs": [
    {
     "data": {
      "text/plain": [
       "['pakistan', 'pakInd', 'pakola', 'pakistan', 'pak', 'pst', 'poland']"
      ]
     },
     "execution_count": 49,
     "metadata": {},
     "output_type": "execute_result"
    }
   ],
   "source": [
    "import re\n",
    "\n",
    "x = \" pakistan \\n zinda bad pakInd pakola 100 Armypakistan pak1 azad kousar pst poland\"\n",
    "l = re.findall(\"pa?[A-z]+\",x) #except\n",
    "l"
   ]
  },
  {
   "cell_type": "code",
   "execution_count": 62,
   "id": "18d9b339",
   "metadata": {},
   "outputs": [
    {
     "data": {
      "text/plain": [
       "['pakistan', 'pakIn', 'pakistan', 'polan']"
      ]
     },
     "execution_count": 62,
     "metadata": {},
     "output_type": "execute_result"
    }
   ],
   "source": [
    "import re\n",
    "\n",
    "x = \" pakistan \\n zinda bad pakInd pakola 100 Armypakistan pak1 azad kousar pst poland\"\n",
    "l = re.findall(\"p[A-z]+n\",x) #except\n",
    "l"
   ]
  },
  {
   "cell_type": "code",
   "execution_count": 54,
   "id": "c6feec40",
   "metadata": {},
   "outputs": [
    {
     "name": "stdout",
     "output_type": "stream",
     "text": [
      "['<html>', '<head>', '<title>', '<body>', '<h1>', '<p>']\n",
      "['</title>', '</head>', '</h1>', '</p>', '</body>', '</html>']\n"
     ]
    }
   ],
   "source": [
    "web = \"\"\"\n",
    "<!DOCTYPE html>\n",
    "<html>\n",
    "<head>\n",
    "<title>Page Title</title>\n",
    "</head>\n",
    "<body>\n",
    "\n",
    "<h1>This is a Heading</h1>\n",
    "<p>This is a paragraph.</p>\n",
    "\n",
    "</body>\n",
    "</html>\n",
    "\"\"\"\n",
    "\n",
    "op = re.findall('<[A-z0-9]+>',web)\n",
    "cl = re.findall('</[A-z0-9]+>',web)\n",
    "print(op)\n",
    "print(cl)"
   ]
  },
  {
   "cell_type": "code",
   "execution_count": 68,
   "id": "f2928921",
   "metadata": {},
   "outputs": [
    {
     "data": {
      "text/plain": [
       "['pakist', 'pakInd', 'pakola', 'pakist', 'poland']"
      ]
     },
     "execution_count": 68,
     "metadata": {},
     "output_type": "execute_result"
    }
   ],
   "source": [
    "import re\n",
    "\n",
    "x = \" pakistan \\n zinda bad pakInd pakola 100 Armypakistan pak1 azad kousar pst poland pak\"\n",
    "l = re.findall(\"p[A-z]{5}\",x) #except\n",
    "l"
   ]
  },
  {
   "cell_type": "code",
   "execution_count": 87,
   "id": "6ec2da24",
   "metadata": {},
   "outputs": [
    {
     "data": {
      "text/plain": [
       "['10:26 PM', '01:26 PM', '11:26 AM', '12:26 PM']"
      ]
     },
     "execution_count": 87,
     "metadata": {},
     "output_type": "execute_result"
    }
   ],
   "source": [
    "import re\n",
    "\n",
    "x = \"\"\"\n",
    "today saylani class 10:26 PM pakistan time\n",
    "today saylani class 01:26 PM pakistan time\n",
    "today saylani class 11:26 AM pakistan time\n",
    "today saylani class 12:26 PM pakistan time\n",
    "\"\"\"\n",
    "\n",
    "l = re.findall(\"\\d{2}:\\d{2} [PMAM]{2}\",x) #except\n",
    "l"
   ]
  },
  {
   "cell_type": "code",
   "execution_count": 96,
   "id": "9e8c6adc",
   "metadata": {},
   "outputs": [
    {
     "name": "stdout",
     "output_type": "stream",
     "text": [
      "1200\n"
     ]
    }
   ],
   "source": [
    "f = open(\"./chat.txt\", encoding='utf-8')\n",
    "f = f.readlines()\n",
    "print(len(f))"
   ]
  },
  {
   "cell_type": "code",
   "execution_count": 99,
   "id": "87cebb36",
   "metadata": {},
   "outputs": [
    {
     "data": {
      "text/plain": [
       "['09:03:08 From Syed Jawad [PIAIC185558] To Everyone : assalam wa alikum\\n',\n",
       " '09:03:14 From Mustafa Mufti To Everyone : Theek thaak sir, thank you\\n',\n",
       " '09:03:16 From Syed Jawad [PIAIC185558] To Everyone : alhamdulliah how r u?\\n',\n",
       " '09:03:17 From Rao Arslan To Everyone : Muhammad Arslan [PIAIC-126354]\\n',\n",
       " '09:03:20 From Mustafa Mufti To Everyone : Nahi sir all good\\n']"
      ]
     },
     "execution_count": 99,
     "metadata": {},
     "output_type": "execute_result"
    }
   ],
   "source": [
    "f[0:5]"
   ]
  },
  {
   "cell_type": "code",
   "execution_count": 122,
   "id": "6f9243eb",
   "metadata": {},
   "outputs": [
    {
     "name": "stdout",
     "output_type": "stream",
     "text": [
      "['09:03:02'] ['From Syed Jawad [PIAIC']\n"
     ]
    }
   ],
   "source": [
    "x = \"'09:03:02 From Syed Jawad [PIAIC185558] To Everyone : assalam wa alikum\\n'\"\n",
    "t = re.findall(\"\\d{1,2}:\\d{1,2}:\\d{1,2}\",x)\n",
    "name = re.findall(\"From [A-z ]+\",x)\n",
    "print(t,name)"
   ]
  },
  {
   "cell_type": "code",
   "execution_count": 137,
   "id": "00e1b559",
   "metadata": {},
   "outputs": [
    {
     "data": {
      "text/plain": [
       "'Malcolm Reynolds'"
      ]
     },
     "execution_count": 137,
     "metadata": {},
     "output_type": "execute_result"
    }
   ],
   "source": [
    "m = re.match(r\"(?P<first_name>\\w+) (?P<last_name>\\w+)\", \"Malcolm Reynolds\")\n",
    "m[0]"
   ]
  },
  {
   "cell_type": "code",
   "execution_count": 138,
   "id": "ad47ecaf",
   "metadata": {},
   "outputs": [
    {
     "data": {
      "text/plain": [
       "'Malcolm'"
      ]
     },
     "execution_count": 138,
     "metadata": {},
     "output_type": "execute_result"
    }
   ],
   "source": [
    "m[1]"
   ]
  },
  {
   "cell_type": "code",
   "execution_count": 139,
   "id": "dfc1d56e",
   "metadata": {},
   "outputs": [
    {
     "data": {
      "text/plain": [
       "{'first_name': 'Malcolm', 'last_name': 'Reynolds'}"
      ]
     },
     "execution_count": 139,
     "metadata": {},
     "output_type": "execute_result"
    }
   ],
   "source": [
    "\n",
    "m.groupdict()"
   ]
  },
  {
   "cell_type": "code",
   "execution_count": 144,
   "id": "898dd904",
   "metadata": {},
   "outputs": [
    {
     "data": {
      "text/plain": [
       "dict"
      ]
     },
     "execution_count": 144,
     "metadata": {},
     "output_type": "execute_result"
    }
   ],
   "source": [
    "import pandas as pd\n",
    "type(m.groupdict())"
   ]
  },
  {
   "cell_type": "code",
   "execution_count": 147,
   "id": "1bdd0d1e",
   "metadata": {},
   "outputs": [
    {
     "data": {
      "text/html": [
       "<div>\n",
       "<style scoped>\n",
       "    .dataframe tbody tr th:only-of-type {\n",
       "        vertical-align: middle;\n",
       "    }\n",
       "\n",
       "    .dataframe tbody tr th {\n",
       "        vertical-align: top;\n",
       "    }\n",
       "\n",
       "    .dataframe thead th {\n",
       "        text-align: right;\n",
       "    }\n",
       "</style>\n",
       "<table border=\"1\" class=\"dataframe\">\n",
       "  <thead>\n",
       "    <tr style=\"text-align: right;\">\n",
       "      <th></th>\n",
       "      <th>first_name</th>\n",
       "      <th>last_name</th>\n",
       "    </tr>\n",
       "  </thead>\n",
       "  <tbody>\n",
       "    <tr>\n",
       "      <th>0</th>\n",
       "      <td>Malcolm</td>\n",
       "      <td>Reynolds</td>\n",
       "    </tr>\n",
       "  </tbody>\n",
       "</table>\n",
       "</div>"
      ],
      "text/plain": [
       "  first_name last_name\n",
       "0    Malcolm  Reynolds"
      ]
     },
     "execution_count": 147,
     "metadata": {},
     "output_type": "execute_result"
    }
   ],
   "source": [
    "pd.DataFrame({k:[v] for k,v in m.groupdict().items()})"
   ]
  },
  {
   "cell_type": "code",
   "execution_count": null,
   "id": "1a5b9747",
   "metadata": {},
   "outputs": [],
   "source": []
  }
 ],
 "metadata": {
  "kernelspec": {
   "display_name": "Python 3",
   "language": "python",
   "name": "python3"
  },
  "language_info": {
   "codemirror_mode": {
    "name": "ipython",
    "version": 3
   },
   "file_extension": ".py",
   "mimetype": "text/x-python",
   "name": "python",
   "nbconvert_exporter": "python",
   "pygments_lexer": "ipython3",
   "version": "3.8.8"
  }
 },
 "nbformat": 4,
 "nbformat_minor": 5
}
